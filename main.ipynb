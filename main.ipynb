{
 "cells": [
  {
   "cell_type": "code",
   "execution_count": 1,
   "metadata": {},
   "outputs": [],
   "source": [
    "from bs4 import BeautifulSoup\r\n",
    "import pandas as pd\r\n",
    "from zipfile import ZipFile\r\n",
    "import urllib.request\r\n",
    "import os\r\n",
    "import geopy.distance\r\n",
    "\r\n",
    "from splinter import Browser\r\n",
    "from webdriver_manager.chrome import ChromeDriverManager"
   ]
  },
  {
   "cell_type": "code",
   "execution_count": 2,
   "metadata": {},
   "outputs": [
    {
     "name": "stderr",
     "output_type": "stream",
     "text": [
      "[WDM] - ====== WebDriver manager ======\n",
      "[WDM] - Current google-chrome version is 89.0.4389\n",
      "[WDM] - Get LATEST driver version for 89.0.4389\n"
     ]
    },
    {
     "name": "stdout",
     "output_type": "stream",
     "text": [
      "\n",
      "\n"
     ]
    },
    {
     "name": "stderr",
     "output_type": "stream",
     "text": [
      "[WDM] - Get LATEST driver version for 89.0.4389\n",
      "[WDM] - Trying to download new driver from https://chromedriver.storage.googleapis.com/89.0.4389.23/chromedriver_win32.zip\n",
      "[WDM] - Driver has been saved in cache [C:\\Users\\melis\\.wdm\\drivers\\chromedriver\\win32\\89.0.4389.23]\n"
     ]
    }
   ],
   "source": [
    "executable_path = {'executable_path': ChromeDriverManager().install()}\r\n",
    "browser = Browser('chrome', **executable_path, headless=False)"
   ]
  },
  {
   "cell_type": "code",
   "execution_count": 3,
   "metadata": {},
   "outputs": [],
   "source": [
    "url = 'https://s3.amazonaws.com/tripdata/index.html'\r\n",
    "browser.visit(url)\r\n"
   ]
  },
  {
   "cell_type": "code",
   "execution_count": 4,
   "metadata": {},
   "outputs": [],
   "source": [
    "# HTML object\r\n",
    "html = browser.html\r\n",
    "# Parse HTML with Beautiful Soup\r\n",
    "soup = BeautifulSoup(html, 'html.parser')\r\n",
    "# Retrieve all elements that contain book information\r\n",
    "all_a_tags = soup.find_all('a')\r\n",
    "\r\n",
    "#all_links = [link.get_attribute('href') for link in browser.find_elements_by_tag_name('a')]"
   ]
  },
  {
   "cell_type": "code",
   "execution_count": 5,
   "metadata": {},
   "outputs": [
    {
     "data": {
      "text/plain": "['https://s3.amazonaws.com/tripdata/JC-201601-citibike-tripdata.csv.zip',\n 'https://s3.amazonaws.com/tripdata/JC-201602-citibike-tripdata.csv.zip',\n 'https://s3.amazonaws.com/tripdata/JC-201603-citibike-tripdata.csv.zip',\n 'https://s3.amazonaws.com/tripdata/JC-201604-citibike-tripdata.csv.zip',\n 'https://s3.amazonaws.com/tripdata/JC-201605-citibike-tripdata.csv.zip',\n 'https://s3.amazonaws.com/tripdata/JC-201606-citibike-tripdata.csv.zip',\n 'https://s3.amazonaws.com/tripdata/JC-201607-citibike-tripdata.csv.zip',\n 'https://s3.amazonaws.com/tripdata/JC-201608-citibike-tripdata.csv.zip',\n 'https://s3.amazonaws.com/tripdata/JC-201609-citibike-tripdata.csv.zip',\n 'https://s3.amazonaws.com/tripdata/JC-201610-citibike-tripdata.csv.zip',\n 'https://s3.amazonaws.com/tripdata/JC-201611-citibike-tripdata.csv.zip',\n 'https://s3.amazonaws.com/tripdata/JC-201612-citibike-tripdata.csv.zip',\n 'https://s3.amazonaws.com/tripdata/JC-201701-citibike-tripdata.csv.zip',\n 'https://s3.amazonaws.com/tripdata/JC-201702-citibike-tripdata.csv.zip',\n 'https://s3.amazonaws.com/tripdata/JC-201703-citibike-tripdata.csv.zip',\n 'https://s3.amazonaws.com/tripdata/JC-201704-citibike-tripdata.csv.zip',\n 'https://s3.amazonaws.com/tripdata/JC-201705-citibike-tripdata.csv.zip',\n 'https://s3.amazonaws.com/tripdata/JC-201706-citibike-tripdata.csv.zip',\n 'https://s3.amazonaws.com/tripdata/JC-201707-citibike-tripdata.csv.zip',\n 'https://s3.amazonaws.com/tripdata/JC-201708%20citibike-tripdata.csv.zip',\n 'https://s3.amazonaws.com/tripdata/JC-201709-citibike-tripdata.csv.zip',\n 'https://s3.amazonaws.com/tripdata/JC-201710-citibike-tripdata.csv.zip',\n 'https://s3.amazonaws.com/tripdata/JC-201711-citibike-tripdata.csv.zip',\n 'https://s3.amazonaws.com/tripdata/JC-201712-citibike-tripdata.csv.zip']"
     },
     "execution_count": 5,
     "metadata": {},
     "output_type": "execute_result"
    }
   ],
   "source": [
    "zip_links = []\r\n",
    "for link in all_a_tags:\r\n",
    "    if ('2016' in link['href']) & ('JC' in link['href']):\r\n",
    "        zip_links.append(link['href'].replace(' ','%20'))\r\n",
    "    if ('2017' in link['href']) & ('JC' in link['href']):        \r\n",
    "        zip_links.append(link['href'].replace(' ','%20'))\r\n",
    "zip_links    "
   ]
  },
  {
   "cell_type": "code",
   "execution_count": 6,
   "metadata": {},
   "outputs": [],
   "source": [
    "def getcitybike_df(file_url):\r\n",
    "    url = urllib.request.urlopen(file_url)\r\n",
    "    output = open('data.zip', 'wb')    \r\n",
    "    output.write(url.read())\r\n",
    "    output.close()\r\n",
    "    df = pd.read_csv('data.zip')    \r\n",
    "    if len(df.columns) == 15:\r\n",
    "        df.columns = ['Trip Duration (sec)'\r\n",
    "            ,'Start Datetime'\r\n",
    "            ,'End Datetime'\r\n",
    "            ,'Start Station ID'\r\n",
    "            ,'Start Station Name'\r\n",
    "            ,'Start Latitude'\r\n",
    "            ,'Start Longitude'\r\n",
    "            ,'End Station ID'\r\n",
    "            ,'End Station Name'\r\n",
    "            ,'End Latitude'\r\n",
    "            ,'End Longitude'\r\n",
    "            ,'BikeID'\r\n",
    "            ,'UserType'\r\n",
    "            ,'BirthYear'\r\n",
    "            ,'Gender']    \r\n",
    "\r\n",
    "    print(f'Row count {len(df.index)}')\r\n",
    "    \r\n",
    "    os.remove('data.zip')\r\n",
    "\r\n",
    "    print(file_url)\r\n",
    "    return df"
   ]
  },
  {
   "cell_type": "code",
   "execution_count": 7,
   "metadata": {},
   "outputs": [],
   "source": [
    "def getcleandata_df(df):    \r\n",
    "    df = df.dropna(how='any').reset_index(drop=True)\r\n",
    "            \r\n",
    "    df['Start Datetime'] = pd.to_datetime(df['Start Datetime'])\r\n",
    "    df['End Datetime'] = pd.to_datetime(df['End Datetime'])\r\n",
    "    df['BirthYear'] = df.BirthYear.astype(int)\r\n",
    "        \r\n",
    "    df['Age'] = df['Start Datetime'].dt.year - df['BirthYear']\r\n",
    "    \r\n",
    "    # Gender (Zero=unknown; 1=male; 2=female)    \r\n",
    "    df = df[ df['Start Latitude'] != 0 ]\r\n",
    "    df = df[ df['End Latitude'] != 0 ]\r\n",
    "    df = df[ df['Start Longitude'] != 0 ]\r\n",
    "    df = df[ df['End Longitude'] != 0 ]\r\n",
    "    # exclude ages > 90 years\r\n",
    "    df = df[df['Age'] < 99]\r\n",
    "    \r\n",
    "    return df"
   ]
  },
  {
   "cell_type": "code",
   "execution_count": 8,
   "metadata": {},
   "outputs": [],
   "source": [
    "citybikedata_df = pd.DataFrame()\r\n"
   ]
  },
  {
   "cell_type": "code",
   "execution_count": 9,
   "metadata": {},
   "outputs": [
    {
     "name": "stdout",
     "output_type": "stream",
     "text": [
      "Row count 7479\n",
      "https://s3.amazonaws.com/tripdata/JC-201601-citibike-tripdata.csv.zip\n",
      "Row count 8250\n",
      "https://s3.amazonaws.com/tripdata/JC-201602-citibike-tripdata.csv.zip\n",
      "Row count 13511\n",
      "https://s3.amazonaws.com/tripdata/JC-201603-citibike-tripdata.csv.zip\n",
      "Row count 16342\n",
      "https://s3.amazonaws.com/tripdata/JC-201604-citibike-tripdata.csv.zip\n",
      "Row count 19488\n",
      "https://s3.amazonaws.com/tripdata/JC-201605-citibike-tripdata.csv.zip\n",
      "Row count 23947\n",
      "https://s3.amazonaws.com/tripdata/JC-201606-citibike-tripdata.csv.zip\n",
      "Row count 24436\n",
      "https://s3.amazonaws.com/tripdata/JC-201607-citibike-tripdata.csv.zip\n",
      "Row count 34149\n",
      "https://s3.amazonaws.com/tripdata/JC-201608-citibike-tripdata.csv.zip\n",
      "Row count 33425\n",
      "https://s3.amazonaws.com/tripdata/JC-201609-citibike-tripdata.csv.zip\n",
      "Row count 29611\n",
      "https://s3.amazonaws.com/tripdata/JC-201610-citibike-tripdata.csv.zip\n",
      "Row count 21832\n",
      "https://s3.amazonaws.com/tripdata/JC-201611-citibike-tripdata.csv.zip\n",
      "Row count 15114\n",
      "https://s3.amazonaws.com/tripdata/JC-201612-citibike-tripdata.csv.zip\n",
      "Row count 12926\n",
      "https://s3.amazonaws.com/tripdata/JC-201701-citibike-tripdata.csv.zip\n",
      "Row count 14026\n",
      "https://s3.amazonaws.com/tripdata/JC-201702-citibike-tripdata.csv.zip\n",
      "Row count 12201\n",
      "https://s3.amazonaws.com/tripdata/JC-201703-citibike-tripdata.csv.zip\n",
      "Row count 21186\n",
      "https://s3.amazonaws.com/tripdata/JC-201704-citibike-tripdata.csv.zip\n",
      "Row count 25966\n",
      "https://s3.amazonaws.com/tripdata/JC-201705-citibike-tripdata.csv.zip\n",
      "Row count 32060\n",
      "https://s3.amazonaws.com/tripdata/JC-201706-citibike-tripdata.csv.zip\n",
      "Row count 33573\n",
      "https://s3.amazonaws.com/tripdata/JC-201707-citibike-tripdata.csv.zip\n",
      "Row count 35472\n",
      "https://s3.amazonaws.com/tripdata/JC-201708%20citibike-tripdata.csv.zip\n",
      "Row count 33119\n",
      "https://s3.amazonaws.com/tripdata/JC-201709-citibike-tripdata.csv.zip\n",
      "Row count 34919\n",
      "https://s3.amazonaws.com/tripdata/JC-201710-citibike-tripdata.csv.zip\n",
      "Row count 23582\n",
      "https://s3.amazonaws.com/tripdata/JC-201711-citibike-tripdata.csv.zip\n",
      "Row count 15898\n",
      "https://s3.amazonaws.com/tripdata/JC-201712-citibike-tripdata.csv.zip\n"
     ]
    }
   ],
   "source": [
    "for link in zip_links:\r\n",
    "    df = getcitybike_df(link)\r\n",
    "    citybikedata_df = citybikedata_df.append(df, ignore_index=True, sort=False)    "
   ]
  },
  {
   "cell_type": "code",
   "execution_count": 10,
   "metadata": {},
   "outputs": [
    {
     "data": {
      "text/html": "<div>\n<style scoped>\n    .dataframe tbody tr th:only-of-type {\n        vertical-align: middle;\n    }\n\n    .dataframe tbody tr th {\n        vertical-align: top;\n    }\n\n    .dataframe thead th {\n        text-align: right;\n    }\n</style>\n<table border=\"1\" class=\"dataframe\">\n  <thead>\n    <tr style=\"text-align: right;\">\n      <th></th>\n      <th>Trip Duration (sec)</th>\n      <th>Start Datetime</th>\n      <th>End Datetime</th>\n      <th>Start Station ID</th>\n      <th>Start Station Name</th>\n      <th>Start Latitude</th>\n      <th>Start Longitude</th>\n      <th>End Station ID</th>\n      <th>End Station Name</th>\n      <th>End Latitude</th>\n      <th>End Longitude</th>\n      <th>BikeID</th>\n      <th>UserType</th>\n      <th>BirthYear</th>\n      <th>Gender</th>\n    </tr>\n  </thead>\n  <tbody>\n    <tr>\n      <th>0</th>\n      <td>362</td>\n      <td>2016-01-01 00:02:52</td>\n      <td>2016-01-01 00:08:54</td>\n      <td>3186</td>\n      <td>Grove St PATH</td>\n      <td>40.719586</td>\n      <td>-74.043117</td>\n      <td>3209</td>\n      <td>Brunswick St</td>\n      <td>40.724176</td>\n      <td>-74.050656</td>\n      <td>24647</td>\n      <td>Subscriber</td>\n      <td>1964.0</td>\n      <td>2</td>\n    </tr>\n    <tr>\n      <th>1</th>\n      <td>200</td>\n      <td>2016-01-01 00:18:22</td>\n      <td>2016-01-01 00:21:42</td>\n      <td>3186</td>\n      <td>Grove St PATH</td>\n      <td>40.719586</td>\n      <td>-74.043117</td>\n      <td>3213</td>\n      <td>Van Vorst Park</td>\n      <td>40.718489</td>\n      <td>-74.047727</td>\n      <td>24605</td>\n      <td>Subscriber</td>\n      <td>1962.0</td>\n      <td>1</td>\n    </tr>\n    <tr>\n      <th>2</th>\n      <td>202</td>\n      <td>2016-01-01 00:18:25</td>\n      <td>2016-01-01 00:21:47</td>\n      <td>3186</td>\n      <td>Grove St PATH</td>\n      <td>40.719586</td>\n      <td>-74.043117</td>\n      <td>3213</td>\n      <td>Van Vorst Park</td>\n      <td>40.718489</td>\n      <td>-74.047727</td>\n      <td>24689</td>\n      <td>Subscriber</td>\n      <td>1962.0</td>\n      <td>2</td>\n    </tr>\n    <tr>\n      <th>3</th>\n      <td>248</td>\n      <td>2016-01-01 00:23:13</td>\n      <td>2016-01-01 00:27:21</td>\n      <td>3209</td>\n      <td>Brunswick St</td>\n      <td>40.724176</td>\n      <td>-74.050656</td>\n      <td>3203</td>\n      <td>Hamilton Park</td>\n      <td>40.727596</td>\n      <td>-74.044247</td>\n      <td>24693</td>\n      <td>Subscriber</td>\n      <td>1984.0</td>\n      <td>1</td>\n    </tr>\n    <tr>\n      <th>4</th>\n      <td>903</td>\n      <td>2016-01-01 01:03:20</td>\n      <td>2016-01-01 01:18:24</td>\n      <td>3195</td>\n      <td>Sip Ave</td>\n      <td>40.730743</td>\n      <td>-74.063784</td>\n      <td>3210</td>\n      <td>Pershing Field</td>\n      <td>40.742677</td>\n      <td>-74.051789</td>\n      <td>24573</td>\n      <td>Customer</td>\n      <td>NaN</td>\n      <td>0</td>\n    </tr>\n  </tbody>\n</table>\n</div>",
      "text/plain": "   Trip Duration (sec)       Start Datetime         End Datetime  \\\n0                  362  2016-01-01 00:02:52  2016-01-01 00:08:54   \n1                  200  2016-01-01 00:18:22  2016-01-01 00:21:42   \n2                  202  2016-01-01 00:18:25  2016-01-01 00:21:47   \n3                  248  2016-01-01 00:23:13  2016-01-01 00:27:21   \n4                  903  2016-01-01 01:03:20  2016-01-01 01:18:24   \n\n   Start Station ID Start Station Name  Start Latitude  Start Longitude  \\\n0              3186      Grove St PATH       40.719586       -74.043117   \n1              3186      Grove St PATH       40.719586       -74.043117   \n2              3186      Grove St PATH       40.719586       -74.043117   \n3              3209       Brunswick St       40.724176       -74.050656   \n4              3195            Sip Ave       40.730743       -74.063784   \n\n   End Station ID End Station Name  End Latitude  End Longitude  BikeID  \\\n0            3209     Brunswick St     40.724176     -74.050656   24647   \n1            3213   Van Vorst Park     40.718489     -74.047727   24605   \n2            3213   Van Vorst Park     40.718489     -74.047727   24689   \n3            3203    Hamilton Park     40.727596     -74.044247   24693   \n4            3210   Pershing Field     40.742677     -74.051789   24573   \n\n     UserType  BirthYear  Gender  \n0  Subscriber     1964.0       2  \n1  Subscriber     1962.0       1  \n2  Subscriber     1962.0       2  \n3  Subscriber     1984.0       1  \n4    Customer        NaN       0  "
     },
     "execution_count": 10,
     "metadata": {},
     "output_type": "execute_result"
    }
   ],
   "source": [
    "citybikedata_df.head()"
   ]
  },
  {
   "cell_type": "code",
   "execution_count": 11,
   "metadata": {},
   "outputs": [
    {
     "data": {
      "text/plain": "Trip Duration (sec)      int64\nStart Datetime          object\nEnd Datetime            object\nStart Station ID         int64\nStart Station Name      object\nStart Latitude         float64\nStart Longitude        float64\nEnd Station ID           int64\nEnd Station Name        object\nEnd Latitude           float64\nEnd Longitude          float64\nBikeID                   int64\nUserType                object\nBirthYear              float64\nGender                   int64\ndtype: object"
     },
     "execution_count": 11,
     "metadata": {},
     "output_type": "execute_result"
    }
   ],
   "source": [
    "citybikedata_df.dtypes"
   ]
  },
  {
   "cell_type": "code",
   "execution_count": null,
   "metadata": {},
   "outputs": [],
   "source": []
  },
  {
   "cell_type": "code",
   "execution_count": 12,
   "metadata": {},
   "outputs": [],
   "source": [
    "clean_citybikedata_df = getcleandata_df(citybikedata_df)"
   ]
  },
  {
   "cell_type": "code",
   "execution_count": 13,
   "metadata": {},
   "outputs": [
    {
     "data": {
      "text/plain": "Trip Duration (sec)             int64\nStart Datetime         datetime64[ns]\nEnd Datetime           datetime64[ns]\nStart Station ID                int64\nStart Station Name             object\nStart Latitude                float64\nStart Longitude               float64\nEnd Station ID                  int64\nEnd Station Name               object\nEnd Latitude                  float64\nEnd Longitude                 float64\nBikeID                          int64\nUserType                       object\nBirthYear                       int32\nGender                          int64\nAge                             int64\ndtype: object"
     },
     "execution_count": 13,
     "metadata": {},
     "output_type": "execute_result"
    }
   ],
   "source": [
    "clean_citybikedata_df.dtypes"
   ]
  },
  {
   "cell_type": "code",
   "execution_count": 14,
   "metadata": {},
   "outputs": [],
   "source": [
    "trip_distances = []\r\n",
    "for index, row in clean_citybikedata_df.iterrows():    \r\n",
    "    start_lat = row['Start Latitude']\r\n",
    "    start_lng = row['Start Longitude']\r\n",
    "    end_lat = row['End Latitude']\r\n",
    "    end_lng = row['End Longitude']\r\n",
    "\r\n",
    "    coord1 = (start_lat, start_lng)\r\n",
    "    coord2 = (end_lat, end_lng)\r\n",
    "    \r\n",
    "    trip_distances.append(geopy.distance.geodesic(coord1, coord2).miles)    \r\n",
    "\r\n"
   ]
  },
  {
   "cell_type": "code",
   "execution_count": 15,
   "metadata": {},
   "outputs": [],
   "source": [
    "clean_citybikedata_df['Approximate Trip Distance (mi)'] = trip_distances"
   ]
  },
  {
   "cell_type": "code",
   "execution_count": 16,
   "metadata": {},
   "outputs": [
    {
     "data": {
      "text/html": "<div>\n<style scoped>\n    .dataframe tbody tr th:only-of-type {\n        vertical-align: middle;\n    }\n\n    .dataframe tbody tr th {\n        vertical-align: top;\n    }\n\n    .dataframe thead th {\n        text-align: right;\n    }\n</style>\n<table border=\"1\" class=\"dataframe\">\n  <thead>\n    <tr style=\"text-align: right;\">\n      <th></th>\n      <th>Trip Duration (sec)</th>\n      <th>Start Datetime</th>\n      <th>End Datetime</th>\n      <th>Start Station ID</th>\n      <th>Start Station Name</th>\n      <th>Start Latitude</th>\n      <th>Start Longitude</th>\n      <th>End Station ID</th>\n      <th>End Station Name</th>\n      <th>End Latitude</th>\n      <th>End Longitude</th>\n      <th>BikeID</th>\n      <th>UserType</th>\n      <th>BirthYear</th>\n      <th>Gender</th>\n      <th>Age</th>\n      <th>Approximate Trip Distance (mi)</th>\n    </tr>\n  </thead>\n  <tbody>\n    <tr>\n      <th>0</th>\n      <td>362</td>\n      <td>2016-01-01 00:02:52</td>\n      <td>2016-01-01 00:08:54</td>\n      <td>3186</td>\n      <td>Grove St PATH</td>\n      <td>40.719586</td>\n      <td>-74.043117</td>\n      <td>3209</td>\n      <td>Brunswick St</td>\n      <td>40.724176</td>\n      <td>-74.050656</td>\n      <td>24647</td>\n      <td>Subscriber</td>\n      <td>1964</td>\n      <td>2</td>\n      <td>52</td>\n      <td>0.506924</td>\n    </tr>\n    <tr>\n      <th>1</th>\n      <td>200</td>\n      <td>2016-01-01 00:18:22</td>\n      <td>2016-01-01 00:21:42</td>\n      <td>3186</td>\n      <td>Grove St PATH</td>\n      <td>40.719586</td>\n      <td>-74.043117</td>\n      <td>3213</td>\n      <td>Van Vorst Park</td>\n      <td>40.718489</td>\n      <td>-74.047727</td>\n      <td>24605</td>\n      <td>Subscriber</td>\n      <td>1962</td>\n      <td>1</td>\n      <td>54</td>\n      <td>0.253551</td>\n    </tr>\n    <tr>\n      <th>2</th>\n      <td>202</td>\n      <td>2016-01-01 00:18:25</td>\n      <td>2016-01-01 00:21:47</td>\n      <td>3186</td>\n      <td>Grove St PATH</td>\n      <td>40.719586</td>\n      <td>-74.043117</td>\n      <td>3213</td>\n      <td>Van Vorst Park</td>\n      <td>40.718489</td>\n      <td>-74.047727</td>\n      <td>24689</td>\n      <td>Subscriber</td>\n      <td>1962</td>\n      <td>2</td>\n      <td>54</td>\n      <td>0.253551</td>\n    </tr>\n    <tr>\n      <th>3</th>\n      <td>248</td>\n      <td>2016-01-01 00:23:13</td>\n      <td>2016-01-01 00:27:21</td>\n      <td>3209</td>\n      <td>Brunswick St</td>\n      <td>40.724176</td>\n      <td>-74.050656</td>\n      <td>3203</td>\n      <td>Hamilton Park</td>\n      <td>40.727596</td>\n      <td>-74.044247</td>\n      <td>24693</td>\n      <td>Subscriber</td>\n      <td>1984</td>\n      <td>1</td>\n      <td>32</td>\n      <td>0.410937</td>\n    </tr>\n    <tr>\n      <th>4</th>\n      <td>445</td>\n      <td>2016-01-01 01:07:45</td>\n      <td>2016-01-01 01:15:11</td>\n      <td>3186</td>\n      <td>Grove St PATH</td>\n      <td>40.719586</td>\n      <td>-74.043117</td>\n      <td>3203</td>\n      <td>Hamilton Park</td>\n      <td>40.727596</td>\n      <td>-74.044247</td>\n      <td>24510</td>\n      <td>Subscriber</td>\n      <td>1988</td>\n      <td>2</td>\n      <td>28</td>\n      <td>0.555872</td>\n    </tr>\n  </tbody>\n</table>\n</div>",
      "text/plain": "   Trip Duration (sec)      Start Datetime        End Datetime  \\\n0                  362 2016-01-01 00:02:52 2016-01-01 00:08:54   \n1                  200 2016-01-01 00:18:22 2016-01-01 00:21:42   \n2                  202 2016-01-01 00:18:25 2016-01-01 00:21:47   \n3                  248 2016-01-01 00:23:13 2016-01-01 00:27:21   \n4                  445 2016-01-01 01:07:45 2016-01-01 01:15:11   \n\n   Start Station ID Start Station Name  Start Latitude  Start Longitude  \\\n0              3186      Grove St PATH       40.719586       -74.043117   \n1              3186      Grove St PATH       40.719586       -74.043117   \n2              3186      Grove St PATH       40.719586       -74.043117   \n3              3209       Brunswick St       40.724176       -74.050656   \n4              3186      Grove St PATH       40.719586       -74.043117   \n\n   End Station ID End Station Name  End Latitude  End Longitude  BikeID  \\\n0            3209     Brunswick St     40.724176     -74.050656   24647   \n1            3213   Van Vorst Park     40.718489     -74.047727   24605   \n2            3213   Van Vorst Park     40.718489     -74.047727   24689   \n3            3203    Hamilton Park     40.727596     -74.044247   24693   \n4            3203    Hamilton Park     40.727596     -74.044247   24510   \n\n     UserType  BirthYear  Gender  Age  Approximate Trip Distance (mi)  \n0  Subscriber       1964       2   52                        0.506924  \n1  Subscriber       1962       1   54                        0.253551  \n2  Subscriber       1962       2   54                        0.253551  \n3  Subscriber       1984       1   32                        0.410937  \n4  Subscriber       1988       2   28                        0.555872  "
     },
     "execution_count": 16,
     "metadata": {},
     "output_type": "execute_result"
    }
   ],
   "source": [
    "clean_citybikedata_df.head()"
   ]
  },
  {
   "cell_type": "code",
   "execution_count": 17,
   "metadata": {},
   "outputs": [],
   "source": [
    "clean_citybikedata_df.to_csv('data/citybikedata.csv', encoding='utf-8', index=False)"
   ]
  },
  {
   "cell_type": "code",
   "execution_count": null,
   "metadata": {},
   "outputs": [],
   "source": []
  }
 ],
 "metadata": {
  "kernelspec": {
   "display_name": "Python 3.8.5 64-bit ('base': conda)",
   "name": "python385jvsc74a57bd0081b6216928d55ece203d92fdcd5214719477f63e022b6b86f3f62fef0361037"
  },
  "language_info": {
   "codemirror_mode": {
    "name": "ipython",
    "version": 3
   },
   "file_extension": ".py",
   "mimetype": "text/x-python",
   "name": "python",
   "nbconvert_exporter": "python",
   "pygments_lexer": "ipython3",
   "version": "3.8.5"
  },
  "orig_nbformat": 2
 },
 "nbformat": 4,
 "nbformat_minor": 2
}